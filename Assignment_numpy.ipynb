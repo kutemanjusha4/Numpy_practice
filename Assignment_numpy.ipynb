{
 "cells": [
  {
   "cell_type": "code",
   "execution_count": 1,
   "id": "20b69579",
   "metadata": {},
   "outputs": [],
   "source": [
    "# 1. Create a vector with values ranging from 10 to 49.\n"
   ]
  },
  {
   "cell_type": "code",
   "execution_count": 2,
   "id": "d3eade30",
   "metadata": {},
   "outputs": [
    {
     "name": "stdout",
     "output_type": "stream",
     "text": [
      "[10 11 12 13 14 15 16 17 18 19 20 21 22 23 24 25 26 27 28 29 30 31 32 33\n",
      " 34 35 36 37 38 39 40 41 42 43 44 45 46 47 48 49]\n"
     ]
    }
   ],
   "source": [
    "import numpy as np\n",
    "arr=np.arange(10,50)\n",
    "print(arr)"
   ]
  },
  {
   "cell_type": "code",
   "execution_count": 3,
   "id": "e93cb461",
   "metadata": {},
   "outputs": [],
   "source": [
    "# 2. Create a 3x3 matrix with values ranging from 0 to 8."
   ]
  },
  {
   "cell_type": "code",
   "execution_count": 4,
   "id": "fab50f39",
   "metadata": {},
   "outputs": [
    {
     "name": "stdout",
     "output_type": "stream",
     "text": [
      "[[0 1 2]\n",
      " [3 4 5]\n",
      " [6 7 8]]\n"
     ]
    }
   ],
   "source": [
    "arr=np.arange(0,9).reshape(3,3)\n",
    "print(arr)"
   ]
  },
  {
   "cell_type": "code",
   "execution_count": 5,
   "id": "1fbe9c14",
   "metadata": {},
   "outputs": [],
   "source": [
    "# 3. Create a 10x10 array with random values and find the minimum and maximum values.\n"
   ]
  },
  {
   "cell_type": "code",
   "execution_count": 6,
   "id": "c786a9ad",
   "metadata": {
    "scrolled": true
   },
   "outputs": [
    {
     "name": "stdout",
     "output_type": "stream",
     "text": [
      "[[0.86786473 0.83308987 0.51456702 0.45004839 0.24703216 0.85310726\n",
      "  0.53177738 0.17265511 0.77376007 0.60544938]\n",
      " [0.92086277 0.35591146 0.72452176 0.04295035 0.83051146 0.31385861\n",
      "  0.12930498 0.237248   0.76452038 0.78305965]\n",
      " [0.72321301 0.23977016 0.6646701  0.67226335 0.55202787 0.1017392\n",
      "  0.45494569 0.12516401 0.4955668  0.14625821]\n",
      " [0.22858644 0.73519394 0.83829697 0.28243555 0.64117708 0.25611319\n",
      "  0.76600307 0.23492228 0.13270948 0.55924201]\n",
      " [0.01193963 0.93348875 0.59597355 0.27664572 0.96167426 0.12951636\n",
      "  0.35349985 0.95156404 0.22446937 0.88249366]\n",
      " [0.68105543 0.15536819 0.57131887 0.90883503 0.66018773 0.30197499\n",
      "  0.52537655 0.03398792 0.08242644 0.25391815]\n",
      " [0.45316667 0.95124087 0.02216468 0.7235994  0.3948648  0.46775992\n",
      "  0.44506339 0.47475876 0.44480672 0.92100395]\n",
      " [0.90998499 0.53497231 0.27358963 0.20938838 0.04194798 0.10881348\n",
      "  0.58604596 0.64276361 0.78877573 0.74647118]\n",
      " [0.54879775 0.63975371 0.0115517  0.307932   0.79721618 0.05996375\n",
      "  0.94969087 0.31106688 0.49980185 0.77863799]\n",
      " [0.0883683  0.17712914 0.03713118 0.53724331 0.69264281 0.46723348\n",
      "  0.48184844 0.40129776 0.71283827 0.19107525]]\n",
      "Min value: 0.011551702004314102\n",
      "Max value: 0.9616742619492509\n"
     ]
    }
   ],
   "source": [
    "arr=np.random.rand(100).reshape(10,10)\n",
    "print(arr)\n",
    "print(\"Min value:\",np.min(arr))\n",
    "print(\"Max value:\",np.max(arr))"
   ]
  },
  {
   "cell_type": "code",
   "execution_count": 7,
   "id": "2e35807f",
   "metadata": {},
   "outputs": [],
   "source": [
    "# 4. Create a random vector of size 30 and find the mean value.\n"
   ]
  },
  {
   "cell_type": "code",
   "execution_count": 8,
   "id": "a659a087",
   "metadata": {},
   "outputs": [
    {
     "name": "stdout",
     "output_type": "stream",
     "text": [
      "[ 1  2  3  4  5  6  7  8  9 10 11 12 13 14 15 16 17 18 19 20 21 22 23 24\n",
      " 25 26 27 28 29 30]\n",
      "\n",
      "Mean : 15.5\n"
     ]
    }
   ],
   "source": [
    "arr=np.arange(1,31)\n",
    "print(arr)\n",
    "print()\n",
    "print(\"Mean :\",np.mean(arr))"
   ]
  },
  {
   "cell_type": "code",
   "execution_count": 9,
   "id": "512e3574",
   "metadata": {},
   "outputs": [],
   "source": [
    "#5. Perform addition, subtraction, multiplication, and division of two given NumPy arrays."
   ]
  },
  {
   "cell_type": "code",
   "execution_count": 10,
   "id": "e1adcf4b",
   "metadata": {},
   "outputs": [
    {
     "name": "stdout",
     "output_type": "stream",
     "text": [
      "[5 6 7 8]\n",
      "\n",
      "[1 2 3 4]\n",
      "\n",
      "Addition: [ 6  8 10 12]\n",
      "Subtraction: [4 4 4 4]\n",
      "Multiplication: [ 5 12 21 32]\n",
      "Division: [5.         3.         2.33333333 2.        ]\n"
     ]
    }
   ],
   "source": [
    "var1=np.array([5,6,7,8])\n",
    "var2=np.array([1,2,3,4])\n",
    "print(var1)\n",
    "print()\n",
    "print(var2)\n",
    "print()\n",
    "varadd=np.add(var1,var2)\n",
    "varsub=np.subtract(var1,var2)\n",
    "varmul=np.multiply(var1,var2)\n",
    "vardiv=np.divide(var1,var2)\n",
    "print(\"Addition:\",varadd)\n",
    "print(\"Subtraction:\",varsub)\n",
    "print(\"Multiplication:\",varmul)\n",
    "print(\"Division:\",vardiv)"
   ]
  },
  {
   "cell_type": "code",
   "execution_count": 11,
   "id": "f2644a71",
   "metadata": {},
   "outputs": [],
   "source": [
    "#6. Calculate the element-wise square root of a given NumPy array."
   ]
  },
  {
   "cell_type": "code",
   "execution_count": 12,
   "id": "bcb7a592",
   "metadata": {},
   "outputs": [
    {
     "name": "stdout",
     "output_type": "stream",
     "text": [
      "[2.23606798 2.44948974 2.64575131 2.82842712]\n"
     ]
    }
   ],
   "source": [
    "var1=np.array([5,6,7,8])\n",
    "print(np.sqrt(var1))\n"
   ]
  },
  {
   "cell_type": "code",
   "execution_count": 13,
   "id": "57e9c458",
   "metadata": {},
   "outputs": [],
   "source": [
    "#7. Stack two given arrays vertically and horizontally."
   ]
  },
  {
   "cell_type": "code",
   "execution_count": 22,
   "id": "12add736",
   "metadata": {},
   "outputs": [
    {
     "name": "stdout",
     "output_type": "stream",
     "text": [
      "Vertically:\n",
      " [[9 8 3]\n",
      " [2 5 6]]\n",
      "Horizontaly:\n",
      " [9 8 3 2 5 6]\n"
     ]
    }
   ],
   "source": [
    "ar1 = np.array([9, 8, 3])\n",
    "ar2 = np.array([2, 5, 6])\n",
    "ar_v = np.vstack((ar1, ar2))\n",
    "ar_h = np.hstack((ar1, ar2))\n",
    "print(\"Vertically:\\n\",ar_v)\n",
    "print(\"Horizontaly:\\n\",ar_h)"
   ]
  },
  {
   "cell_type": "code",
   "execution_count": 15,
   "id": "8a3597e0",
   "metadata": {},
   "outputs": [],
   "source": [
    "#8. Reshape a given 1D array into a 2D array with 3 rows and 4 columns."
   ]
  },
  {
   "cell_type": "code",
   "execution_count": 16,
   "id": "82abca29",
   "metadata": {},
   "outputs": [
    {
     "name": "stdout",
     "output_type": "stream",
     "text": [
      "[[ 1  2  3  4]\n",
      " [ 5  6  7  8]\n",
      " [ 9 10 11 12]]\n"
     ]
    }
   ],
   "source": [
    "var1=np.array([1,2,3,4,5,6,7,8,9,10,11,12])\n",
    "print(var1.reshape(3,4))"
   ]
  },
  {
   "cell_type": "code",
   "execution_count": 17,
   "id": "c6ba91c8",
   "metadata": {},
   "outputs": [],
   "source": [
    "#9. Transpose a given 2D array and then flatten it into a 1D array."
   ]
  },
  {
   "cell_type": "code",
   "execution_count": 18,
   "id": "c8fa55dd",
   "metadata": {},
   "outputs": [
    {
     "name": "stdout",
     "output_type": "stream",
     "text": [
      " Transpose_Array:\n",
      " [[1 4]\n",
      " [2 5]\n",
      " [3 6]]\n",
      "\n",
      "Flatten_array: [1 2 3 4 5 6]\n"
     ]
    }
   ],
   "source": [
    "var1=np.array([[1,2,3],[4,5,6]])\n",
    "print(\" Transpose_Array:\\n\", np.transpose(var1))\n",
    "print()\n",
    "print(\"Flatten_array:\",var1.flatten())\n"
   ]
  },
  {
   "cell_type": "code",
   "execution_count": 19,
   "id": "bff1ac92",
   "metadata": {},
   "outputs": [],
   "source": [
    "#10. Create a random of array and implement different slicing methods on it"
   ]
  },
  {
   "cell_type": "code",
   "execution_count": 20,
   "id": "70e5ee3f",
   "metadata": {},
   "outputs": [
    {
     "name": "stdout",
     "output_type": "stream",
     "text": [
      "[1 2 3 4 5 6 7]\n",
      "\n",
      "values 2 to 5: [2 3 4 5]\n",
      "values 2 to End: [2 3 4 5 6 7]\n",
      "values Start to 5: [1 2 3 4 5]\n",
      "Reverse: [7 6 5 4 3 2 1]\n",
      "Stop: [1 3 5 7]\n",
      "Complete array: [1 2 3 4 5 6 7]\n"
     ]
    }
   ],
   "source": [
    "var=np.array([1,2,3,4,5,6,7])\n",
    "print(var)\n",
    "print()\n",
    "print(\"values 2 to 5:\",var[1:5])\n",
    "print(\"values 2 to End:\",var[1:])\n",
    "print(\"values Start to 5:\",var[:5])\n",
    "print(\"Reverse:\",var[::-1])\n",
    "print(\"Stop:\",var[::2])\n",
    "print(\"Complete array:\",var[:])"
   ]
  },
  {
   "cell_type": "code",
   "execution_count": null,
   "id": "5eae9d6e",
   "metadata": {},
   "outputs": [],
   "source": []
  }
 ],
 "metadata": {
  "kernelspec": {
   "display_name": "Python 3 (ipykernel)",
   "language": "python",
   "name": "python3"
  },
  "language_info": {
   "codemirror_mode": {
    "name": "ipython",
    "version": 3
   },
   "file_extension": ".py",
   "mimetype": "text/x-python",
   "name": "python",
   "nbconvert_exporter": "python",
   "pygments_lexer": "ipython3",
   "version": "3.11.5"
  }
 },
 "nbformat": 4,
 "nbformat_minor": 5
}
